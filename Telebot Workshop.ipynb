{
 "cells": [
  {
   "cell_type": "code",
   "execution_count": null,
   "metadata": {},
   "outputs": [],
   "source": [
    "#installs telebot and cv2 libraries using pip\n",
    "\n",
    "#!pip install pyTelegramBotAPI\n",
    "#https://jakevdp.github.io/blog/2017/12/05/installing-python-packages-from-jupyter/\n",
    "#use the below method to pip install telebot instead, refer to above link for explanation\n",
    "\n",
    "# Install a pip package in the current Jupyter kernel\n",
    "import sys\n",
    "#another package called telebot which has been depracated, if installed wrong one then one way that worked was uninstalling telebot\n",
    "#from the anaconda prompt (didn't seem to work in jupyter notebook)\n",
    "#telebot",
    "!{sys.executable} -m pip install pyTelegramBotAPI\n",
    "#cv2",
    "!{sys.executable} -m pip install opencv-python\n",
    "!{sys.executable} -m pip install ibm_watson"
   ]
  },
  {
   "cell_type": "code",
   "execution_count": null,
   "metadata": {},
   "outputs": [],
   "source": [
    "#import libraries\n",
    "\n",
    "#image processing library\n",
    "import cv2\n",
    "#telegram bot library\n",
    "import telebot\n",
    "#threading library, for multiple flows of code execution\n",
    "import threading\n",
    "#numpy library, a numerical computing python library\n",
    "import numpy\n",
    "\n",
    "from datetime import datetime\n",
    "import json"
   ]
  },
  {
   "cell_type": "code",
   "execution_count": null,
   "metadata": {},
   "outputs": [],
   "source": [
    "#stores formatted telebot messages in txt file\n",
    "def archive_message(message) -> None:\n",
    "    #see message contents\n",
    "    print (message)"
   ]
  },
  {
   "cell_type": "code",
   "execution_count": null,
   "metadata": {},
   "outputs": [],
   "source": [
    "#global variable declaration\n",
    "image_counter = 0"
   ]
  },
  {
   "cell_type": "code",
   "execution_count": null,
   "metadata": {},
   "outputs": [],
   "source": [
    "#starts telegram bot\n",
    "\n",
    "#create telegram bot\n",
    "bot = telebot.TeleBot(\"<insert Telebot API key here>\")"
   ]
  },
  {
   "cell_type": "code",
   "execution_count": null,
   "metadata": {},
   "outputs": [],
   "source": [
    "#default reply to message, echoes the text back\n",
    "def default_reply(message) -> str:\n",
    "    return message.text"
   ]
  },
  {
   "cell_type": "code",
   "execution_count": null,
   "metadata": {},
   "outputs": [],
   "source": [
    "#message handlers\n",
    "\n",
    "#if this is changed, then need to redeclare the bot object. I suspect it's because the new message handlers do not override\n",
    "#the previous ones (and they are based on sequential order of declaration with the original message handlers declared first)\n",
    "\n",
    "#start message handler, called when /start command is sent\n",
    "@bot.message_handler(commands=['start'])\n",
    "def send_welcome(message) -> None:\n",
    "    #prints message to the console\n",
    "    reply = \"Hi, I'm a Telegram Bot. How are you?\"\n",
    "    bot.send_message(message.chat.id, reply)\n",
    "    #print message text and reply\n",
    "    print (message.text + \"\\t|\\t\" +  reply)\n",
    "    \n",
    "#demonstrate use of regex expression, all characters in string are integer characters\n",
    "@bot.message_handler(regexp=\"[0-9]\")\n",
    "def all_numbers(message) -> None:\n",
    "    reply = \"That is a string of numbers\"\n",
    "    bot.reply_to(message, reply)\n",
    "    print (message.text + \"\\t|\\t\" + reply)\n",
    "    \n",
    "#default message handler\n",
    "@bot.message_handler(func=lambda message: True)\n",
    "def echo_all(message) -> None:\n",
    "    #default_reply echoes the message, later on Watson Assistant API is used to give chatbot functionality\n",
    "    reply = default_reply(message)\n",
    "    bot.send_message(message.chat.id, reply)\n",
    "    print (message.text + \"\\t|\\t\" + reply)"
   ]
  },
  {
   "cell_type": "code",
   "execution_count": null,
   "metadata": {
    "scrolled": true
   },
   "outputs": [],
   "source": [
    "#start polling for messages\n",
    "\n",
    "#if rerunning this kernel, need to stop for a few seconds to prevent simultaneous requests to the telegram API\n",
    "bot.polling()"
   ]
  },
  {
   "cell_type": "code",
   "execution_count": null,
   "metadata": {},
   "outputs": [],
   "source": [
    "#def get_image function to get image frame from camera\n",
    "def get_image(camera_index:int=0) -> numpy.ndarray:\n",
    "    #read image from camera_index (default 0, i.e. first camera)\n",
    "    video = cv2.VideoCapture(0)\n",
    "    ret, frame = video.read()\n",
    "    return frame"
   ]
  },
  {
   "cell_type": "code",
   "execution_count": null,
   "metadata": {},
   "outputs": [],
   "source": [
    "#get image and print image \n",
    "\n",
    "#gets image\n",
    "frame = get_image()\n",
    "\n",
    "#displays image\n",
    "cv2.imshow(\"test\", frame)\n",
    "\n",
    "#closes image window when key is pressed\n",
    "cv2.waitKey(0)"
   ]
  },
  {
   "cell_type": "code",
   "execution_count": null,
   "metadata": {},
   "outputs": [],
   "source": [
    "#add message handler to take images\n",
    "@bot.message_handler(commands=[\"photo\"])\n",
    "def take_photo(message) -> None:\n",
    "    frame = get_image()\n",
    "    #access global image_counter variable\n",
    "    global image_counter\n",
    "    #probably not the best solution but it keeps an archive of the images and sends it\n",
    "    #need to find a better way to send the image directly as numpy array or without saving it\n",
    "    #this makes it a little slow serving photo requests\n",
    "    cv2.imwrite(f\"temp_image{image_counter}.jpg\", frame)\n",
    "    #sends image\n",
    "    bot.send_photo(chat_id=message.chat.id, photo=open(f\"temp_image{image_counter}.jpg\", \"rb\"))\n",
    "    #increment image_counter so image is not overwritten (for archival)\n",
    "    image_counter += 1"
   ]
  },
  {
   "cell_type": "code",
   "execution_count": null,
   "metadata": {},
   "outputs": [],
   "source": [
    "#import IBM Watson libraries for IBM Assistant chatbot\n",
    "from ibm_watson import AssistantV2\n",
    "from ibm_cloud_sdk_core.authenticators import IAMAuthenticator"
   ]
  },
  {
   "cell_type": "code",
   "execution_count": null,
   "metadata": {},
   "outputs": [],
   "source": [
    "#IBM Watson Assistant\n",
    "\n",
    "#create Watson Assistant object\n",
    "authenticator = IAMAuthenticator('<insert Watson Assistant API key here>')\n",
    "assistant = AssistantV2(version='2019-02-28',authenticator=authenticator)\n",
    "\n",
    "watson_assistant_id = \"<insert Watson Assistant ID here>\"\n",
    "\n",
    "#function to create IBM Watson Assistant session using Watson Assistant object\n",
    "def create_session() -> str:\n",
    "    #return session_id\n",
    "    session_id = assistant.create_session(assistant_id=watson_assistant_id).get_result()[\"session_id\"]\n",
    "    return session_id\n",
    "\n",
    "\n",
    "#set service url for Watson Assistant, based on Assistant URL\n",
    "assistant.set_service_url('https://api.us-south.assistant.watson.cloud.ibm.com')"
   ]
  },
  {
   "cell_type": "code",
   "execution_count": null,
   "metadata": {},
   "outputs": [],
   "source": [
    "#should check if file exists\n",
    "\n",
    "try:\n",
    "    #open up a file to check for existing session ids\n",
    "    with open(\"session_id_list.json\", \"r\") as infile:\n",
    "        infile = infile.read().strip()\n",
    "        session_id_dict = json.loads(infile) if infile != \"\" else {}\n",
    "except IOError:\n",
    "    #file does not exist\n",
    "    session_id_dict = {}"
   ]
  },
  {
   "cell_type": "code",
   "execution_count": null,
   "metadata": {},
   "outputs": [],
   "source": [
    "#setting up Watson API for default message handler\n",
    "#sort of demonstrates polymorphism, with the initial default_reply having same name as this one\n",
    "def default_reply(message) -> str:\n",
    "    chat_id = message.chat.id\n",
    "    now = datetime.now()\n",
    "    if chat_id not in session_id_dict:\n",
    "        #need to add a check for inactivity timeout, 5 minutes\n",
    "        #before session id expires I think\n",
    "        #need to create new session id\n",
    "        session_id = create_session()\n",
    "        session_id_dict[chat_id] = {\"session_id\": session_id, \"time\": now.strftime(\"%Y%m%d%H%M%S\")}\n",
    "    else:\n",
    "        #for comparison\n",
    "        now_compressed_int = int(now.strftime(\"%Y%m%d%H%M%S\"))\n",
    "        #get the last time chat was used\n",
    "        last_chat_time = int(session_id_dict[chat_id][\"time\"])\n",
    "        if now_compressed_int > last_chat_time + 500:\n",
    "            #compare the strings and if greater than 500 means\n",
    "            #5 minutes difference (can compare date time object as another method)\n",
    "            #create a new session, can be split together with\n",
    "            #above into a store session method\n",
    "            session_id = create_session()\n",
    "            session_id_dict[chat_id] = {\"session_id\": session_id, \"time\":str(now_compressed_int)}\n",
    "        else:\n",
    "            #reuse session id\n",
    "            session_id = session_id_dict[chat_id][\"session_id\"]\n",
    "            session_id_dict[chat_id][\"time\"] = str(now_compressed_int)\n",
    "        \n",
    "    #write new session_id_dict to file\n",
    "    with open(\"session_id_list.json\", \"w\") as outfile:\n",
    "        outfile.write(json.dumps(session_id_dict))\n",
    "    \n",
    "    #get reply and return\n",
    "    return assistant.message(\\\n",
    "                assistant_id = watson_assistant_id,\\\n",
    "                session_id=session_id,\\\n",
    "                input={\"message_type\": \"text\",\"text\": message.text}\\\n",
    "                ).get_result()[\"output\"][\"generic\"][0][\"text\"]"
   ]
  },
  {
   "cell_type": "code",
   "execution_count": null,
   "metadata": {},
   "outputs": [],
   "source": [
    "#RPi GPIO\n",
    "\n",
    "#import RPi GPIO library to access RPi's GPIO pins\n",
    "import RPi.GPIO as GPIO"
   ]
  }
 ],
 "metadata": {
  "kernelspec": {
   "display_name": "Python 3",
   "language": "python",
   "name": "python3"
  },
  "language_info": {
   "codemirror_mode": {
    "name": "ipython",
    "version": 3
   },
   "file_extension": ".py",
   "mimetype": "text/x-python",
   "name": "python",
   "nbconvert_exporter": "python",
   "pygments_lexer": "ipython3",
   "version": "3.7.3"
  }
 },
 "nbformat": 4,
 "nbformat_minor": 2
}
