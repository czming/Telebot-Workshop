{
 "cells": [
  {
   "cell_type": "code",
   "execution_count": null,
   "metadata": {},
   "outputs": [],
   "source": [
    "#installs telebot library using pip\n",
    "\n",
    "#!pip install telebot\n",
    "#https://jakevdp.github.io/blog/2017/12/05/installing-python-packages-from-jupyter/\n",
    "#use the below method to pip install telebot instead, refer to above link for explanation\n",
    "\n",
    "# Install a pip package in the current Jupyter kernel\n",
    "import sys\n",
    "!{sys.executable} -m pip install telebot\n",
    "!{sys.executable} -m pip install opencv-python"
   ]
  },
  {
   "cell_type": "code",
   "execution_count": null,
   "metadata": {},
   "outputs": [],
   "source": [
    "#import libraries\n",
    "\n",
    "#image processing library\n",
    "import cv2\n",
    "#telegram bot library\n",
    "import telebot\n",
    "#threading library, for multiple flows of code execution\n",
    "import threading"
   ]
  },
  {
   "cell_type": "code",
   "execution_count": null,
   "metadata": {},
   "outputs": [],
   "source": [
    "#starts telegram bot\n",
    "\n",
    "#create telegram bot\n",
    "bot = telepot.Bot(\"<fill in telegram bot ID here>\")\n",
    "#run message_loop function on telegram bot object, passes \"handle\" function as an argument\n",
    "bot.message_loop(handle)"
   ]
  },
  {
   "cell_type": "code",
   "execution_count": null,
   "metadata": {},
   "outputs": [],
   "source": [
    "#def get_image function to get image frame from camera\n",
    "def get_image(camera_index:int=0):\n",
    "    #read image from camera_index (default 0, i.e. first camera)\n",
    "    video = cv2.VideoCapture(0)\n",
    "    ret, frame = video.read()\n",
    "    return frame"
   ]
  },
  {
   "cell_type": "code",
   "execution_count": null,
   "metadata": {},
   "outputs": [],
   "source": [
    "#get image and print image \n",
    "\n",
    "#gets image\n",
    "frame = get_image()\n",
    "\n",
    "#displays image\n",
    "cv2.imshow(\"test\", frame)\n",
    "\n",
    "#closes image window when key is pressed\n",
    "cv2.waitKey(0)"
   ]
  }
 ],
 "metadata": {
  "kernelspec": {
   "display_name": "Python 3",
   "language": "python",
   "name": "python3"
  },
  "language_info": {
   "codemirror_mode": {
    "name": "ipython",
    "version": 3
   },
   "file_extension": ".py",
   "mimetype": "text/x-python",
   "name": "python",
   "nbconvert_exporter": "python",
   "pygments_lexer": "ipython3",
   "version": "3.7.3"
  }
 },
 "nbformat": 4,
 "nbformat_minor": 2
}
