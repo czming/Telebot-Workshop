{
 "cells": [
  {
   "cell_type": "code",
   "execution_count": null,
   "metadata": {},
   "outputs": [],
   "source": [
    "#installs telebot library using pip\n",
    "\n",
    "#!pip install telebot\n",
    "#https://jakevdp.github.io/blog/2017/12/05/installing-python-packages-from-jupyter/\n",
    "#use the below method to pip install telebot instead, refer to above link for explanation\n",
    "\n",
    "# Install a pip package in the current Jupyter kernel\n",
    "import sys\n",
    "!{sys.executable} -m pip install telebot\n",
    "!{sys.executable} -m pip install opencv-python"
   ]
  },
  {
   "cell_type": "code",
   "execution_count": null,
   "metadata": {},
   "outputs": [],
   "source": [
    "#import libraries\n",
    "\n",
    "#image processing library\n",
    "import cv2\n",
    "#telegram bot library\n",
    "import telebot\n",
    "#threading library, for multiple flows of code execution\n",
    "import threading"
   ]
  },
  {
   "cell_type": "code",
   "execution_count": null,
   "metadata": {},
   "outputs": [],
   "source": [
    "#stores formatted telebot messages in txt file\n",
    "def archive_message(message) -> None:"
   ]
  },
  {
   "cell_type": "code",
   "execution_count": null,
   "metadata": {},
   "outputs": [],
   "source": [
    "#global variable declaration\n",
    "image_counter = 0"
   ]
  },
  {
   "cell_type": "code",
   "execution_count": null,
   "metadata": {},
   "outputs": [],
   "source": [
    "#starts telegram bot\n",
    "\n",
    "#create telegram bot\n",
    "bot = telebot.TeleBot(\"<fill in telegram bot ID here>\")"
   ]
  },
  {
   "cell_type": "code",
   "execution_count": null,
   "metadata": {},
   "outputs": [],
   "source": [
    "#default reply to message\n",
    "def default_reply(message):\n",
    "    bot.reply_to(message, message.text)"
   ]
  },
  {
   "cell_type": "code",
   "execution_count": null,
   "metadata": {},
   "outputs": [],
   "source": [
    "#message handlers\n",
    "\n",
    "#start and help message handler, called when /start and /help commands are sent\n",
    "@bot.message_handler(commands=['start'])\n",
    "def send_welcome(message) -> None:\n",
    "    bot.reply_to(message, \"Hi, I'm a Telegram Bot. How are you?\")\n",
    "    \n",
    "#default message handler, separated from other handlers because of chat functionality added later\n",
    "@bot.message_handler(func=lambda message: True)\n",
    "def echo_all(message) -> None:\n",
    "    default_reply(message)"
   ]
  },
  {
   "cell_type": "code",
   "execution_count": null,
   "metadata": {},
   "outputs": [],
   "source": [
    "#start polling for messages\n",
    "\n",
    "#if rerunning this kernel, need to stop for a few seconds to prevent simultaneous requests to the telegram API\n",
    "bot.polling()"
   ]
  },
  {
   "cell_type": "code",
   "execution_count": null,
   "metadata": {},
   "outputs": [],
   "source": [
    "#IBM Watson Assistant\n",
    "\n",
    "#create Watson Assistant object\n",
    "authenticator = IAMAuthenticator('<Watson API Key>')\n",
    "assistant = AssistantV2(\\\n",
    "    version='2019-02-28',\\\n",
    "    authenticator=authenticator\\\n",
    ")\n",
    "\n",
    "#function to create IBM Watson Assistant session using Watson Assistant object\n",
    "def create_session() -> str:\n",
    "    #return session_id\n",
    "    session_id = assistant.create_session(assistant_id=\"<Watson Assistant ID>\").get_result()[\"session_id\"]\n",
    "    return session_id\n",
    "\n",
    "\n",
    "#set service url for Watson Assistant, based on Assistant URL\n",
    "assistant.set_service_url('https://api.us-south.assistant.watson.cloud.ibm.com')"
   ]
  },
  {
   "cell_type": "code",
   "execution_count": null,
   "metadata": {},
   "outputs": [],
   "source": [
    "#setting up Watson API\n",
    "def default_reply(message):\n",
    "    bot.reply_to(message, \"Testing\")"
   ]
  },
  {
   "cell_type": "code",
   "execution_count": null,
   "metadata": {},
   "outputs": [],
   "source": [
    "#def get_image function to get image frame from camera\n",
    "def get_image(camera_index:int=0):\n",
    "    #read image from camera_index (default 0, i.e. first camera)\n",
    "    video = cv2.VideoCapture(0)\n",
    "    ret, frame = video.read()\n",
    "    return frame"
   ]
  },
  {
   "cell_type": "code",
   "execution_count": null,
   "metadata": {},
   "outputs": [],
   "source": [
    "#get image and print image \n",
    "\n",
    "#gets image\n",
    "frame = get_image()\n",
    "\n",
    "#displays image\n",
    "cv2.imshow(\"test\", frame)\n",
    "\n",
    "#closes image window when key is pressed\n",
    "cv2.waitKey(0)"
   ]
  }
 ],
 "metadata": {
  "kernelspec": {
   "display_name": "Python 3",
   "language": "python",
   "name": "python3"
  },
  "language_info": {
   "codemirror_mode": {
    "name": "ipython",
    "version": 3
   },
   "file_extension": ".py",
   "mimetype": "text/x-python",
   "name": "python",
   "nbconvert_exporter": "python",
   "pygments_lexer": "ipython3",
   "version": "3.7.3"
  }
 },
 "nbformat": 4,
 "nbformat_minor": 2
}
