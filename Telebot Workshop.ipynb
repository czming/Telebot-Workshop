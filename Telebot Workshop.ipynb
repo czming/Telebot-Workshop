{
 "cells": [
  {
   "cell_type": "code",
   "execution_count": null,
   "metadata": {},
   "outputs": [],
   "source": [
    "#installs telebot library using pip\n",
    "\n",
    "#!pip install telebot\n",
    "#https://jakevdp.github.io/blog/2017/12/05/installing-python-packages-from-jupyter/\n",
    "#use the below method to pip install telebot instead, refer to above link for explanation\n",
    "\n",
    "# Install a pip package in the current Jupyter kernel\n",
    "import sys\n",
    "!{sys.executable} -m pip install telebot\n",
    "!{sys.executable} -m pip install opencv-python"
   ]
  },
  {
   "cell_type": "code",
   "execution_count": null,
   "metadata": {},
   "outputs": [],
   "source": [
    "#import libraries\n",
    "\n",
    "#image processing library\n",
    "import cv2\n",
    "#telegram bot library\n",
    "import telebot\n",
    "#threading library, for multiple flows of code execution\n",
    "import threading\n",
    "#numpy library, a numerical computing python library\n",
    "import numpy"
   ]
  },
  {
   "cell_type": "code",
   "execution_count": null,
   "metadata": {},
   "outputs": [],
   "source": [
    "#stores formatted telebot messages in txt file\n",
    "def archive_message(message) -> None:"
   ]
  },
  {
   "cell_type": "code",
   "execution_count": null,
   "metadata": {},
   "outputs": [],
   "source": [
    "#global variable declaration\n",
    "image_counter = 0"
   ]
  },
  {
   "cell_type": "code",
   "execution_count": null,
   "metadata": {},
   "outputs": [],
   "source": [
    "#starts telegram bot\n",
    "\n",
    "#create telegram bot\n",
    "bot = telebot.TeleBot(\"<fill in Telegram Bot API key>\")"
   ]
  },
  {
   "cell_type": "code",
   "execution_count": null,
   "metadata": {},
   "outputs": [],
   "source": [
    "#default reply to message, echoes the text back\n",
    "def default_reply(message):\n",
    "    bot.reply_to(message, message.text)"
   ]
  },
  {
   "cell_type": "code",
   "execution_count": null,
   "metadata": {},
   "outputs": [],
   "source": [
    "#message handlers\n",
    "\n",
    "#if this is changed, then need to redeclare the bot object. I suspect it's because the new message handlers do not override\n",
    "#the previous ones (and they are based on sequential order of declaration with the original message handlers declared first)\n",
    "\n",
    "#start message handler, called when /start command is sent\n",
    "@bot.message_handler(commands=['start'])\n",
    "def send_welcome(message) -> None:\n",
    "    print (message.text)\n",
    "    bot.send_message(message.chat.id, \"Hi, I'm a Telegram Bot. How are you?\")\n",
    "    \n",
    "#demonstrate use of regex expression, all characters in string are integer characters\n",
    "@bot.message_handler(regexp=\"[0-9]\")\n",
    "def all_numbers(message) -> None:\n",
    "    bot.reply_to(message, \"That is a string of numbers\")\n",
    "    \n",
    "#default message handler, separated from other handlers because of chat functionality added later\n",
    "@bot.message_handler(func=lambda message: True)\n",
    "def echo_all(message) -> None:\n",
    "    default_reply(message)"
   ]
  },
  {
   "cell_type": "code",
   "execution_count": null,
   "metadata": {},
   "outputs": [],
   "source": [
    "#start polling for messages\n",
    "\n",
    "#if rerunning this kernel, need to stop for a few seconds to prevent simultaneous requests to the telegram API\n",
    "bot.polling()"
   ]
  },
  {
   "cell_type": "code",
   "execution_count": null,
   "metadata": {},
   "outputs": [],
   "source": [
    "#IBM Watson Assistant\n",
    "\n",
    "#create Watson Assistant object\n",
    "authenticator = IAMAuthenticator('<fill in Watson API Key>')\n",
    "assistant = AssistantV2(\\\n",
    "    version='2019-02-28',\\\n",
    "    authenticator=authenticator\\\n",
    ")\n",
    "\n",
    "#function to create IBM Watson Assistant session using Watson Assistant object\n",
    "def create_session() -> str:\n",
    "    #return session_id\n",
    "    session_id = assistant.create_session(assistant_id=\"<fill in Watson Assistant ID>\").get_result()[\"session_id\"]\n",
    "    return session_id\n",
    "\n",
    "\n",
    "#set service url for Watson Assistant, based on Assistant URL\n",
    "assistant.set_service_url('https://api.us-south.assistant.watson.cloud.ibm.com')"
   ]
  },
  {
   "cell_type": "code",
   "execution_count": null,
   "metadata": {},
   "outputs": [],
   "source": [
    "#setting up Watson API for default message handler\n",
    "#sort of demonstrates polymorphism, with the initial default_reply having same name as this one\n",
    "def default_reply(message):\n",
    "    bot.reply_to(message, \"Testing\")"
   ]
  },
  {
   "cell_type": "code",
   "execution_count": null,
   "metadata": {},
   "outputs": [],
   "source": [
    "#def get_image function to get image frame from camera\n",
    "def get_image(camera_index:int=0):\n",
    "    #read image from camera_index (default 0, i.e. first camera)\n",
    "    video = cv2.VideoCapture(0)\n",
    "    ret, frame = video.read()\n",
    "    return frame"
   ]
  },
  {
   "cell_type": "code",
   "execution_count": null,
   "metadata": {},
   "outputs": [],
   "source": [
    "#get image and print image \n",
    "\n",
    "#gets image\n",
    "frame = get_image()\n",
    "\n",
    "#displays image\n",
    "cv2.imshow(\"test\", frame)\n",
    "\n",
    "#closes image window when key is pressed\n",
    "cv2.waitKey(0)"
   ]
  },
  {
   "cell_type": "code",
   "execution_count": null,
   "metadata": {},
   "outputs": [],
   "source": [
    "#add message handler to take images\n",
    "@bot.message_handler(commands=[\"photo\"])\n",
    "def take_photo(message) -> None:\n",
    "    frame = get_image()\n",
    "    #access global image_counter variable\n",
    "    global image_counter\n",
    "    #probably not the best solution but it keeps an archive of the images and sends it\n",
    "    #need to find a better way to send the image directly as numpy array or without saving it\n",
    "    #this makes it a little slow serving photo requests\n",
    "    cv2.imwrite(f\"temp_image{image_counter}.jpg\", frame)\n",
    "    bot.send_photo(chat_id=message.chat.id, photo=open(f\"temp_image{image_counter}.jpg\", \"rb\"))\n",
    "    image_counter += 1"
   ]
  },
  {
   "cell_type": "code",
   "execution_count": null,
   "metadata": {},
   "outputs": [],
   "source": []
  }
 ],
 "metadata": {
  "kernelspec": {
   "display_name": "Python 3",
   "language": "python",
   "name": "python3"
  },
  "language_info": {
   "codemirror_mode": {
    "name": "ipython",
    "version": 3
   },
   "file_extension": ".py",
   "mimetype": "text/x-python",
   "name": "python",
   "nbconvert_exporter": "python",
   "pygments_lexer": "ipython3",
   "version": "3.7.3"
  }
 },
 "nbformat": 4,
 "nbformat_minor": 2
}
